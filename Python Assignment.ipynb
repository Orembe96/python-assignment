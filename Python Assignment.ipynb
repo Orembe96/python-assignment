{
 "cells": [
  {
   "cell_type": "markdown",
   "metadata": {},
   "source": [
    "*Question One:* _List Comprehension_"
   ]
  },
  {
   "cell_type": "code",
   "execution_count": 1,
   "metadata": {},
   "outputs": [
    {
     "name": "stdout",
     "output_type": "stream",
     "text": [
      "[2, 6, 10, 14, 18, 22, 26, 30, 34, 40]\n"
     ]
    }
   ],
   "source": [
    "# Write a python program that outputs the squares of odd numbers from range of 1 to 20\n",
    "a = [1,3,5,7,9,11,13,15,17,20]\n",
    "d = [x * 2 for x in a]\n",
    "print(d)\n"
   ]
  },
  {
   "cell_type": "markdown",
   "metadata": {},
   "source": [
    "*Question Two:* _Integers_"
   ]
  },
  {
   "cell_type": "code",
   "execution_count": null,
   "metadata": {},
   "outputs": [],
   "source": [
    "# Write a program to check whether the given integer is a multiple of 5_\n",
    "num = int(input(\"20\"))\n",
    "if (num % 5 ==0):\n",
    "    print(\"Incorrect\")\n",
    "else:\n",
    "    print(\"Correct\")\n"
   ]
  },
  {
   "cell_type": "markdown",
   "metadata": {},
   "source": [
    "*Question Three*: _If Statement_"
   ]
  },
  {
   "cell_type": "code",
   "execution_count": 3,
   "metadata": {},
   "outputs": [
    {
     "name": "stdout",
     "output_type": "stream",
     "text": [
      "Not Prime\n"
     ]
    }
   ],
   "source": [
    "# Write a program python program to check whether the given integer is a prime number or not\n",
    "num =20\n",
    "\n",
    "for i in range(1,num):\n",
    "    if num % i == 0:\n",
    "        print(\"Not Prime\")\n",
    "        break\n",
    "else:\n",
    "    print(\"Prime\")"
   ]
  },
  {
   "cell_type": "markdown",
   "metadata": {},
   "source": [
    "*Question Four:* _User-defined Functions_"
   ]
  },
  {
   "cell_type": "code",
   "execution_count": null,
   "metadata": {},
   "outputs": [],
   "source": [
    "# Write a program to implement a calculator to do basic operations (+,-,*,/)\n",
    "def add(x,y):\n",
    "    return x+y\n",
    "\n",
    "def substract(x,y):\n",
    "    return x-y\n",
    "\n",
    "def multiply(x,y):\n",
    "    return x * y\n",
    "\n",
    "def divide(x,y):\n",
    "    return x/y\n",
    "\n",
    "# take input from user\n",
    "print(\"select operation\")\n",
    "print(\"1.Add\")\n",
    "print(\"2.Substract\")\n",
    "print(\"3.Multiply\")\n",
    "print(\"4.Divide\")\n",
    "choice=input (\"Enter choice 1/2/3/4:\")\n",
    "\n",
    "num1 = int(input(\"Enter first number:\"))\n",
    "num2 = int(input(\"Enter the second number:\"))\n",
    "\n",
    "\n",
    "if choice == \"1\":\n",
    "    print(num1, \"+\", num2, \"=\", add(num1,num2))\n",
    "    \n",
    "elif choice == \"2\":\n",
    "    print(num1, \"-\", num2, \"=\", substract(num1,num2))\n",
    "\n",
    "    \n",
    "elif choice == \"3\":\n",
    "    print(num1, \"x\", num2, \"=\", multiply(num1,num2))\n",
    "    \n",
    "elif choice == \"4\":\n",
    "     print(num1, \"/\", num2, \"=\", divide(num1,num2))\n",
    "        \n",
    "else:\n",
    "    print(\"Invalid input\")\n",
    "    \n",
    "    \n",
    "    \n",
    "\n",
    "\n",
    "\n",
    "\n"
   ]
  },
  {
   "cell_type": "markdown",
   "metadata": {},
   "source": [
    "*Question Five:* _Dictionaries & For Loop_"
   ]
  },
  {
   "cell_type": "code",
   "execution_count": 2,
   "metadata": {},
   "outputs": [],
   "source": [
    "# Create a simple dictionary and write a program to print all the items in your dictionary\n"
   ]
  },
  {
   "cell_type": "code",
   "execution_count": null,
   "metadata": {},
   "outputs": [],
   "source": [
    "Student = {'name': 'Greg', 'age':25, 'courses':['Data science','international relations']}\n",
    "student['phone'] = 012345678\n",
    "\n",
    "print(student['name'])\n",
    "\n",
    "print(student['age'])\n",
    "\n",
    "print(student['courses'])\n",
    "\n",
    "print(student['phone'])"
   ]
  },
  {
   "cell_type": "code",
   "execution_count": null,
   "metadata": {},
   "outputs": [],
   "source": []
  }
 ],
 "metadata": {
  "interpreter": {
   "hash": "1e4af7d8341c13d568efc1f8500c9e0239c4d10084c4659a417b8b188748b437"
  },
  "kernelspec": {
   "display_name": "Python 3 (ipykernel)",
   "language": "python",
   "name": "python3"
  },
  "language_info": {
   "codemirror_mode": {
    "name": "ipython",
    "version": 3
   },
   "file_extension": ".py",
   "mimetype": "text/x-python",
   "name": "python",
   "nbconvert_exporter": "python",
   "pygments_lexer": "ipython3",
   "version": "3.9.7"
  }
 },
 "nbformat": 4,
 "nbformat_minor": 2
}
